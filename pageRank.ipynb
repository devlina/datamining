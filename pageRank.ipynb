{
 "metadata": {
  "name": "",
  "signature": "sha256:3fcd8504087d2ef7f8df6669c019f2b0b4dc923f76dfaa5d34d779ea53e788fb"
 },
 "nbformat": 3,
 "nbformat_minor": 0,
 "worksheets": [
  {
   "cells": [
    {
     "cell_type": "code",
     "collapsed": false,
     "input": [
      "import numpy as np\n"
     ],
     "language": "python",
     "metadata": {},
     "outputs": [],
     "prompt_number": 1
    },
    {
     "cell_type": "code",
     "collapsed": false,
     "input": [
      "M = np.matrix([[1.0/3, 1.0/2, 0], [1.0/3, 0, 1.0/2], [1.0/3, 1.0/2, 1.0/2]])\n",
      "M"
     ],
     "language": "python",
     "metadata": {},
     "outputs": [
      {
       "metadata": {},
       "output_type": "pyout",
       "prompt_number": 4,
       "text": [
        "matrix([[ 0.33333333,  0.5       ,  0.        ],\n",
        "        [ 0.33333333,  0.        ,  0.5       ],\n",
        "        [ 0.33333333,  0.5       ,  0.5       ]])"
       ]
      }
     ],
     "prompt_number": 4
    },
    {
     "cell_type": "code",
     "collapsed": false,
     "input": [
      "numNode = 3\n",
      "r = np.matrix(np.ones(numNode)*(1.0/numNode)).transpose()"
     ],
     "language": "python",
     "metadata": {},
     "outputs": [],
     "prompt_number": 13
    },
    {
     "cell_type": "code",
     "collapsed": false,
     "input": [
      "emargin = 0.00001\n",
      "rNew = r\n",
      "print rNew.transpose()"
     ],
     "language": "python",
     "metadata": {},
     "outputs": [
      {
       "output_type": "stream",
       "stream": "stdout",
       "text": [
        "[[ 0.33333333  0.33333333  0.33333333]]\n"
       ]
      }
     ],
     "prompt_number": 20
    },
    {
     "cell_type": "code",
     "collapsed": false,
     "input": [
      "for i in range(50):\n",
      "    rOld = rNew\n",
      "    rNew = M*rOld\n",
      "    diff = np.linalg.norm(rOld - rNew)\n",
      "    print(\"iter={:2d}  diff={:4.3e}  r' = {:s}\".format(i,diff,rNew.transpose()))\n",
      "    if diff < emargin:\n",
      "        break\n"
     ],
     "language": "python",
     "metadata": {},
     "outputs": [
      {
       "output_type": "stream",
       "stream": "stdout",
       "text": [
        "iter= 0  diff=3.148e-02  r' = [[ 0.24074042  0.3024696   0.45678998]]\n",
        "iter= 1  diff=1.155e-02  r' = [[ 0.23148161  0.3086418   0.4598766 ]]\n",
        "iter= 2  diff=2.182e-03  r' = [[ 0.23148143  0.30709883  0.46141973]]\n",
        "iter= 3  diff=1.091e-03  r' = [[ 0.23070989  0.30787034  0.46141976]]\n",
        "iter= 4  diff=3.150e-04  r' = [[ 0.23083847  0.30761318  0.46154835]]\n",
        "iter= 5  diff=1.389e-04  r' = [[ 0.23075275  0.30772033  0.46152692]]\n",
        "iter= 6  diff=4.871e-05  r' = [[ 0.23077775  0.30768104  0.46154121]]\n",
        "iter= 7  diff=1.962e-05  r' = [[ 0.23076644  0.30769652  0.46153704]]\n",
        "iter= 8  diff=7.319e-06  r' = [[ 0.23077041  0.30769067  0.46153893]]\n"
       ]
      }
     ],
     "prompt_number": 22
    },
    {
     "cell_type": "heading",
     "level": 1,
     "metadata": {},
     "source": [
      "Page Rank using taxation(B)"
     ]
    },
    {
     "cell_type": "code",
     "collapsed": false,
     "input": [
      "beta = 0.8\n",
      "#r = BMr + (1-B)e/n\n",
      "\n",
      "linkTerm = beta*M\n",
      "jumpTerm = np.matrix(np.ones(numNode)*((1-beta)/numNode)).transpose()\n",
      "rNew = r\n",
      "\n",
      "for i in range(50):\n",
      "    rOld = rNew\n",
      "    rNew = linkTerm*rOld +jumpTerm\n",
      "    diff = np.linalg.norm(rOld - rNew)\n",
      "    print(\"iter={:2d}  diff={:4.3e}  r' = {:s}\".format(i,diff,rNew.transpose()))\n",
      "    if diff < emargin:\n",
      "        break\n",
      "\n"
     ],
     "language": "python",
     "metadata": {},
     "outputs": [
      {
       "output_type": "stream",
       "stream": "stdout",
       "text": [
        "iter= 0  diff=1.089e-01  r' = [[ 0.28888889  0.28888889  0.42222222]]\n",
        "iter= 1  diff=3.840e-02  r' = [[ 0.25925926  0.31259259  0.42814815]]\n",
        "iter= 2  diff=6.978e-03  r' = [[ 0.26083951  0.30706173  0.43209877]]\n",
        "iter= 3  diff=2.694e-03  r' = [[ 0.25904856  0.30906337  0.43188807]]\n",
        "iter= 4  diff=6.907e-04  r' = [[ 0.25937163  0.30850151  0.43212686]]\n",
        "iter= 5  diff=2.325e-04  r' = [[ 0.25923304  0.30868318  0.43208378]]\n",
        "iter= 6  diff=6.748e-05  r' = [[ 0.25926875  0.30862899  0.43210226]]\n",
        "iter= 7  diff=2.136e-05  r' = [[ 0.2592566  0.3086459  0.4320975]]\n",
        "iter= 8  diff=6.444e-06  r' = [[ 0.25926012  0.30864076  0.43209912]]\n"
       ]
      }
     ],
     "prompt_number": 21
    },
    {
     "cell_type": "code",
     "collapsed": false,
     "input": [],
     "language": "python",
     "metadata": {},
     "outputs": []
    }
   ],
   "metadata": {}
  }
 ]
}